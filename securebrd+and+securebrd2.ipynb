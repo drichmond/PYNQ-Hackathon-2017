{
 "cells": [
  {
   "cell_type": "markdown",
   "metadata": {},
   "source": [
    "### Switching your wlan0 between securebrd and securebrd2"
   ]
  },
  {
   "cell_type": "markdown",
   "metadata": {},
   "source": [
    "#### Using wpa_passphrase, we can generate a key for either securebrd or securebrd2\n",
    "\n",
    "#### We can write using Python or shell-friendly scripts to update the wlan0 script"
   ]
  },
  {
   "cell_type": "code",
   "execution_count": 10,
   "metadata": {},
   "outputs": [
    {
     "name": "stdout",
     "output_type": "stream",
     "text": [
      "network={\r\n",
      "\tssid=\"securebrd\"\r\n",
      "\t#psk=\"hackathon2017\"\r\n",
      "\tpsk=5efd58290ec88111d5942bb7f053bc5fa14e6cbe7a55fff43c811a0e43b723e3\r\n",
      "}\r\n"
     ]
    }
   ],
   "source": [
    "!wpa_passphrase securebrd hackathon2017"
   ]
  },
  {
   "cell_type": "code",
   "execution_count": 11,
   "metadata": {},
   "outputs": [
    {
     "name": "stdout",
     "output_type": "stream",
     "text": [
      "network={\r\n",
      "\tssid=\"securebrd2\"\r\n",
      "\t#psk=\"hackathon2017\"\r\n",
      "\tpsk=a6abfb1918690e153be3698e1da8d8401b254d03079b040a53c9f0a4c2d2ebc6\r\n",
      "}\r\n"
     ]
    }
   ],
   "source": [
    "!wpa_passphrase securebrd2 hackathon2017"
   ]
  },
  {
   "cell_type": "markdown",
   "metadata": {},
   "source": [
    "#### The python way"
   ]
  },
  {
   "cell_type": "code",
   "execution_count": null,
   "metadata": {},
   "outputs": [],
   "source": [
    "securebrd_wlan0 = \"\"\"allow-hotplug wlan0\n",
    "iface wlan0 inet dhcp\n",
    "        wpa-ssid securebrd\n",
    "        wpa-psk 5efd58290ec88111d5942bb7f053bc5fa14e6cbe7a55fff43c811a0e43b723e3\n",
    "\"\"\"\n",
    "\n",
    "securebrd2_wlan0 = \"\"\"allow-hotplug wlan0\n",
    "iface wlan0 inet dhcp\n",
    "        wpa-ssid securebrd2\n",
    "        wpa-psk a6abfb1918690e153be3698e1da8d8401b254d03079b040a53c9f0a4c2d2ebc6\n",
    "\"\"\""
   ]
  },
  {
   "cell_type": "code",
   "execution_count": null,
   "metadata": {},
   "outputs": [],
   "source": [
    "with open('/etc/network/interfaces.d/wlan0','w') as myfile:\n",
    "    myfile.write(securebrd_wlan0)"
   ]
  },
  {
   "cell_type": "code",
   "execution_count": null,
   "metadata": {},
   "outputs": [],
   "source": [
    "with open('/etc/network/interfaces.d/wlan0','w') as myfile:\n",
    "    myfile.write(securebrd2_wlan0)"
   ]
  },
  {
   "cell_type": "markdown",
   "metadata": {},
   "source": [
    "#### These calls can be cut/pasted into serial terminal programs"
   ]
  },
  {
   "cell_type": "code",
   "execution_count": null,
   "metadata": {},
   "outputs": [],
   "source": [
    "#### securebrd - run in shell\n",
    "echo \"allow-hotplug wlan0\" > /etc/network/interfaces.d/wlan0\n",
    "echo \"iface wlan0 inet dhcp\" >> /etc/network/interfaces.d/wlan0\n",
    "echo \"        wpa-ssid securebrd\" >> /etc/network/interfaces.d/wlan0\n",
    "echo \"        wpa-psk 5efd58290ec88111d5942bb7f053bc5fa14e6cbe7a55fff43c811a0e43b723e3\" >> /etc/network/interfaces.d/wlan0\n",
    "echo \"\" >> /etc/network/interfaces.d/wlan0"
   ]
  },
  {
   "cell_type": "code",
   "execution_count": null,
   "metadata": {},
   "outputs": [],
   "source": [
    "#### securebrd2 - run in shell\n",
    "echo \"allow-hotplug wlan0\" > /etc/network/interfaces.d/wlan0\n",
    "echo \"iface wlan0 inet dhcp\" >> /etc/network/interfaces.d/wlan0\n",
    "echo \"        wpa-ssid securebrd\" >> /etc/network/interfaces.d/wlan0\n",
    "echo \"        wpa-psk a6abfb1918690e153be3698e1da8d8401b254d03079b040a53c9f0a4c2d2ebc6\" >> /etc/network/interfaces.d/wlan0\n",
    "echo \"\" >> /etc/network/interfaces.d/wlan0"
   ]
  }
 ],
 "metadata": {
  "kernelspec": {
   "display_name": "Python 3",
   "language": "python",
   "name": "python3"
  },
  "language_info": {
   "codemirror_mode": {
    "name": "ipython",
    "version": 3
   },
   "file_extension": ".py",
   "mimetype": "text/x-python",
   "name": "python",
   "nbconvert_exporter": "python",
   "pygments_lexer": "ipython3",
   "version": "3.6.0"
  }
 },
 "nbformat": 4,
 "nbformat_minor": 2
}
